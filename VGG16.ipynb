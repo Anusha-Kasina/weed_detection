{
  "nbformat": 4,
  "nbformat_minor": 0,
  "metadata": {
    "colab": {
      "name": "VGG16.ipynb",
      "provenance": [],
      "include_colab_link": true
    },
    "kernelspec": {
      "name": "python3",
      "display_name": "Python 3"
    },
    "accelerator": "GPU"
  },
  "cells": [
    {
      "cell_type": "markdown",
      "metadata": {
        "id": "view-in-github",
        "colab_type": "text"
      },
      "source": [
        "<a href=\"https://colab.research.google.com/github/Anusha-Kasina/weed_detection/blob/master/VGG16.ipynb\" target=\"_parent\"><img src=\"https://colab.research.google.com/assets/colab-badge.svg\" alt=\"Open In Colab\"/></a>"
      ]
    },
    {
      "cell_type": "code",
      "metadata": {
        "id": "2txqryCkQ1PI",
        "colab_type": "code",
        "outputId": "eb4a010b-e487-49ed-df4a-c3cf8c193905",
        "colab": {
          "base_uri": "https://localhost:8080/",
          "height": 34
        }
      },
      "source": [
        "import argparse\n",
        "import os\n",
        "import matplotlib\n",
        "matplotlib.use('AGG')\n",
        "import matplotlib.pyplot as plt\n",
        "import numpy as np\n",
        "from keras.datasets import cifar10\n",
        "from keras.layers import (Activation, Conv3D, Dense, Dropout, Flatten, MaxPooling3D, BatchNormalization)\n",
        "from keras.layers.advanced_activations import LeakyReLU\n",
        "from keras.losses import categorical_crossentropy\n",
        "from keras.models import Sequential\n",
        "from keras.optimizers import Adam\n",
        "from keras.utils.vis_utils import plot_model\n",
        "from sklearn.model_selection import train_test_split\n",
        "from tqdm import tqdm\n",
        "import numpy as np\n",
        "import cv2\n",
        "from easydict import EasyDict\n",
        "%matplotlib inline\n",
        "import tensorflow as tf\n",
        "from tensorflow import keras\n",
        "import os\n",
        "import numpy as np\n",
        "from keras.models import Sequential\n",
        "from keras.layers import Activation, Dropout, Flatten, Dense\n",
        "from keras.preprocessing.image import ImageDataGenerator\n",
        "from keras.layers import Convolution2D, MaxPooling2D, ZeroPadding2D\n",
        "from keras import optimizers"
      ],
      "execution_count": 1,
      "outputs": [
        {
          "output_type": "stream",
          "text": [
            "Using TensorFlow backend.\n"
          ],
          "name": "stderr"
        }
      ]
    },
    {
      "cell_type": "code",
      "metadata": {
        "id": "cGwEkO7lRKLq",
        "colab_type": "code",
        "outputId": "7b58a2ef-160e-419a-f36a-8c4cbf4fd483",
        "colab": {
          "base_uri": "https://localhost:8080/",
          "height": 68
        }
      },
      "source": [
        "import os\n",
        "#kaggle username from api token \n",
        "os.environ['KAGGLE_USERNAME'] = \"anushakasina\"\n",
        "#kaggle key from api token\n",
        "os.environ['KAGGLE_KEY'] =\"ddb898e4090e073a6d8ebd4a4a47701c\"\n",
        "#dataset path for downloading the data\n",
        "!kaggle datasets download -d fpeccia/weed-detection-in-soybean-crops"
      ],
      "execution_count": 2,
      "outputs": [
        {
          "output_type": "stream",
          "text": [
            "Downloading weed-detection-in-soybean-crops.zip to /content\n",
            "100% 2.37G/2.37G [00:32<00:00, 20.2MB/s]\n",
            "\n"
          ],
          "name": "stdout"
        }
      ]
    },
    {
      "cell_type": "code",
      "metadata": {
        "id": "kyd5V_qER0cf",
        "colab_type": "code",
        "outputId": "969bf758-8d28-418c-d102-b208ceb164fe",
        "colab": {
          "base_uri": "https://localhost:8080/",
          "height": 34
        }
      },
      "source": [
        "from zipfile import ZipFile\n",
        "#filename = zip file path \n",
        "file_name = \"/content/weed-detection-in-soybean-crops.zip\"\n",
        "#to extract the zip file\n",
        "with ZipFile(file_name,'r') as zip:\n",
        "  zip.extractall()\n",
        "  print('done')"
      ],
      "execution_count": 3,
      "outputs": [
        {
          "output_type": "stream",
          "text": [
            "done\n"
          ],
          "name": "stdout"
        }
      ]
    },
    {
      "cell_type": "code",
      "metadata": {
        "id": "2L37sxiYSYVl",
        "colab_type": "code",
        "colab": {}
      },
      "source": [
        "os.mkdir(\"/content/train_data\")\n",
        "os.mkdir(\"/content/train_data/broadleaf\")\n",
        "os.mkdir(\"/content/train_data/grass\")\n",
        "os.mkdir(\"/content/train_data/soil\")\n",
        "os.mkdir(\"/content/train_data/soybean\")\n"
      ],
      "execution_count": 0,
      "outputs": []
    },
    {
      "cell_type": "code",
      "metadata": {
        "id": "uRhj1BvlSjPt",
        "colab_type": "code",
        "colab": {}
      },
      "source": [
        "os.mkdir(\"/content/test_data\")\n",
        "os.mkdir(\"/content/test_data/broadleaf\")\n",
        "os.mkdir(\"/content/test_data/grass\")\n",
        "os.mkdir(\"/content/test_data/soil\")\n",
        "os.mkdir(\"/content/test_data/soybean\")"
      ],
      "execution_count": 0,
      "outputs": []
    },
    {
      "cell_type": "code",
      "metadata": {
        "id": "l37VPpoLSqU_",
        "colab_type": "code",
        "colab": {}
      },
      "source": [
        "from shutil import copyfile \n",
        "import random"
      ],
      "execution_count": 0,
      "outputs": []
    },
    {
      "cell_type": "code",
      "metadata": {
        "id": "yBepwjkESvUZ",
        "colab_type": "code",
        "outputId": "44e12b95-1fab-40c1-e090-dcc5eb57b283",
        "colab": {
          "base_uri": "https://localhost:8080/",
          "height": 34
        }
      },
      "source": [
        "def split_data(source,training,testing,split_size):\n",
        "  files = []\n",
        "  for filename in os.listdir(source):\n",
        "    file = source+filename\n",
        "    files.append(filename)\n",
        "    training_length = int(len(files)*split_size)\n",
        "    shuffled_set = random.sample(files,len(files))\n",
        "    training_set = shuffled_set[0:training_length]\n",
        "    testing_set = shuffled_set[training_length:]\n",
        "  for filename in training_set:\n",
        "    this_file = source+filename \n",
        "    destination = training+filename \n",
        "    copyfile(this_file,destination)        \n",
        "  for filename in testing_set:\n",
        "    this_file = source+filename \n",
        "    destination = testing+filename \n",
        "    copyfile(this_file,destination)\n",
        "#split_size = 0.8\n",
        "split_data(\"/content/dataset/broadleaf/\",\"/content/train_data/broadleaf/\",\"/content/test_data/broadleaf/\",0.8)\n",
        "split_data(\"/content/dataset/grass/\",\"/content/train_data/grass/\",\"/content/test_data/grass/\",0.8)\n",
        "split_data(\"/content/dataset/soil/\",\"/content/train_data/soil/\",\"/content/test_data/soil/\",0.8)\n",
        "split_data(\"/content/dataset/soybean/\",\"/content/train_data/soybean/\",\"/content/test_data/soybean/\",0.8)\n",
        "print(\"done\")"
      ],
      "execution_count": 7,
      "outputs": [
        {
          "output_type": "stream",
          "text": [
            "done\n"
          ],
          "name": "stdout"
        }
      ]
    },
    {
      "cell_type": "code",
      "metadata": {
        "id": "LzAx8RGXTK17",
        "colab_type": "code",
        "outputId": "5e5e913c-14c2-4dc8-d674-cfb8c0337c07",
        "colab": {
          "base_uri": "https://localhost:8080/",
          "height": 85
        }
      },
      "source": [
        "print(\"train-data-broadleaf\",len(os.listdir('/content/train_data/broadleaf')),end=\",\")\n",
        "print(\"test-data-broadleaf\",len(os.listdir('/content/test_data/broadleaf')),end=\"\\n\")\n",
        "print(\"train-data-grass\",len(os.listdir('/content/train_data/grass')),end=\",\")\n",
        "print(\"test-data-grass\",len(os.listdir('/content/test_data/grass')),end=\"\\n\")\n",
        "print(\"train-data-soil\",len(os.listdir('/content/train_data/soil')),end=\",\")\n",
        "print(\"test-data-soil\",len(os.listdir('/content/test_data/soil')),end=\"\\n\")\n",
        "print(\"train-data-soybean\",len(os.listdir('/content/train_data/soybean')),end=\",\")\n",
        "print(\"test-data-soybean\",len(os.listdir('/content/test_data/soybean')),end=\"\\n\")"
      ],
      "execution_count": 8,
      "outputs": [
        {
          "output_type": "stream",
          "text": [
            "train-data-broadleaf 952,test-data-broadleaf 239\n",
            "train-data-grass 2816,test-data-grass 704\n",
            "train-data-soil 2599,test-data-soil 650\n",
            "train-data-soybean 5900,test-data-soybean 1476\n"
          ],
          "name": "stdout"
        }
      ]
    },
    {
      "cell_type": "code",
      "metadata": {
        "id": "MHNqTAZgTMZ7",
        "colab_type": "code",
        "colab": {}
      },
      "source": [
        "from keras.preprocessing.image import ImageDataGenerator, load_img, img_to_array"
      ],
      "execution_count": 0,
      "outputs": []
    },
    {
      "cell_type": "code",
      "metadata": {
        "id": "UW_skib7TRLO",
        "colab_type": "code",
        "outputId": "a478d2ab-fd59-48e8-d600-fd6248a987fa",
        "colab": {
          "base_uri": "https://localhost:8080/",
          "height": 51
        }
      },
      "source": [
        "train_dir = '/content/train_data'\n",
        "test_dir = '/content/test_data'\n",
        "\n",
        "train_gen_obj = ImageDataGenerator(rescale = 1.0/255.0)\n",
        "test_gen_obj = ImageDataGenerator(rescale = 1.0/255.0)\n",
        "\n",
        "train_gen = train_gen_obj.flow_from_directory(train_dir, batch_size = 128, target_size = (150, 150), class_mode = 'categorical')\n",
        "\n",
        "test_gen = test_gen_obj.flow_from_directory(test_dir, batch_size = 64, target_size = (150, 150), class_mode = 'categorical')\n"
      ],
      "execution_count": 10,
      "outputs": [
        {
          "output_type": "stream",
          "text": [
            "Found 12267 images belonging to 4 classes.\n",
            "Found 3069 images belonging to 4 classes.\n"
          ],
          "name": "stdout"
        }
      ]
    },
    {
      "cell_type": "code",
      "metadata": {
        "id": "A6yg388E5jIL",
        "colab_type": "code",
        "colab": {}
      },
      "source": [
        "import numpy as np\n",
        "import pandas as pd\n",
        "import matplotlib.pyplot as plt\n",
        "import matplotlib.image as img\n",
        "import tensorflow as tf\n",
        "import os"
      ],
      "execution_count": 0,
      "outputs": []
    },
    {
      "cell_type": "code",
      "metadata": {
        "id": "EmN9FmRwveVM",
        "colab_type": "code",
        "outputId": "e72b4f1f-3814-4707-b518-721d01a72b12",
        "colab": {
          "base_uri": "https://localhost:8080/",
          "height": 71
        }
      },
      "source": [
        "model_vgg16 = tf.keras.applications.VGG16(include_top=False, input_shape=(150,150, 3))"
      ],
      "execution_count": 12,
      "outputs": [
        {
          "output_type": "stream",
          "text": [
            "Downloading data from https://storage.googleapis.com/tensorflow/keras-applications/vgg16/vgg16_weights_tf_dim_ordering_tf_kernels_notop.h5\n",
            "58892288/58889256 [==============================] - 0s 0us/step\n"
          ],
          "name": "stdout"
        }
      ]
    },
    {
      "cell_type": "code",
      "metadata": {
        "id": "FsBFXgiD6GG5",
        "colab_type": "code",
        "colab": {}
      },
      "source": [
        "for layer in model_vgg16.layers:\n",
        "    layer.trainable = False"
      ],
      "execution_count": 0,
      "outputs": []
    },
    {
      "cell_type": "code",
      "metadata": {
        "id": "jFTB04FE6Rz7",
        "colab_type": "code",
        "colab": {}
      },
      "source": [
        "leaky_relu = tf.keras.layers.LeakyReLU(alpha=0.3)\n",
        "leaky_relu.__name__ = 'leaky_relu'\n",
        "flat1 = tf.keras.layers.Flatten()(model_vgg16.layers[-1].output)\n",
        "class1 = tf.keras.layers.Dense(256, activation=leaky_relu)(flat1)\n",
        "drop1 = tf.keras.layers.Dropout(0.5)(class1)\n",
        "class2 = tf.keras.layers.Dense(256, activation=leaky_relu)(drop1)\n",
        "drop2 = tf.keras.layers.Dropout(0.5)(class2)\n",
        "output = tf.keras.layers.Dense(4, activation='softmax')(drop2)\n",
        "\n",
        "model_vgg16 = tf.keras.models.Model(inputs=model_vgg16.inputs, outputs=output)"
      ],
      "execution_count": 0,
      "outputs": []
    },
    {
      "cell_type": "code",
      "metadata": {
        "id": "EykiI8OM6gwe",
        "colab_type": "code",
        "outputId": "21f28078-bb16-4dda-90a1-e9bbefe05c8f",
        "colab": {
          "base_uri": "https://localhost:8080/",
          "height": 1000
        }
      },
      "source": [
        "model_vgg16.summary()"
      ],
      "execution_count": 15,
      "outputs": [
        {
          "output_type": "stream",
          "text": [
            "Model: \"model\"\n",
            "_________________________________________________________________\n",
            "Layer (type)                 Output Shape              Param #   \n",
            "=================================================================\n",
            "input_1 (InputLayer)         [(None, 150, 150, 3)]     0         \n",
            "_________________________________________________________________\n",
            "block1_conv1 (Conv2D)        (None, 150, 150, 64)      1792      \n",
            "_________________________________________________________________\n",
            "block1_conv2 (Conv2D)        (None, 150, 150, 64)      36928     \n",
            "_________________________________________________________________\n",
            "block1_pool (MaxPooling2D)   (None, 75, 75, 64)        0         \n",
            "_________________________________________________________________\n",
            "block2_conv1 (Conv2D)        (None, 75, 75, 128)       73856     \n",
            "_________________________________________________________________\n",
            "block2_conv2 (Conv2D)        (None, 75, 75, 128)       147584    \n",
            "_________________________________________________________________\n",
            "block2_pool (MaxPooling2D)   (None, 37, 37, 128)       0         \n",
            "_________________________________________________________________\n",
            "block3_conv1 (Conv2D)        (None, 37, 37, 256)       295168    \n",
            "_________________________________________________________________\n",
            "block3_conv2 (Conv2D)        (None, 37, 37, 256)       590080    \n",
            "_________________________________________________________________\n",
            "block3_conv3 (Conv2D)        (None, 37, 37, 256)       590080    \n",
            "_________________________________________________________________\n",
            "block3_pool (MaxPooling2D)   (None, 18, 18, 256)       0         \n",
            "_________________________________________________________________\n",
            "block4_conv1 (Conv2D)        (None, 18, 18, 512)       1180160   \n",
            "_________________________________________________________________\n",
            "block4_conv2 (Conv2D)        (None, 18, 18, 512)       2359808   \n",
            "_________________________________________________________________\n",
            "block4_conv3 (Conv2D)        (None, 18, 18, 512)       2359808   \n",
            "_________________________________________________________________\n",
            "block4_pool (MaxPooling2D)   (None, 9, 9, 512)         0         \n",
            "_________________________________________________________________\n",
            "block5_conv1 (Conv2D)        (None, 9, 9, 512)         2359808   \n",
            "_________________________________________________________________\n",
            "block5_conv2 (Conv2D)        (None, 9, 9, 512)         2359808   \n",
            "_________________________________________________________________\n",
            "block5_conv3 (Conv2D)        (None, 9, 9, 512)         2359808   \n",
            "_________________________________________________________________\n",
            "block5_pool (MaxPooling2D)   (None, 4, 4, 512)         0         \n",
            "_________________________________________________________________\n",
            "flatten (Flatten)            (None, 8192)              0         \n",
            "_________________________________________________________________\n",
            "dense (Dense)                (None, 256)               2097408   \n",
            "_________________________________________________________________\n",
            "dropout (Dropout)            (None, 256)               0         \n",
            "_________________________________________________________________\n",
            "dense_1 (Dense)              (None, 256)               65792     \n",
            "_________________________________________________________________\n",
            "dropout_1 (Dropout)          (None, 256)               0         \n",
            "_________________________________________________________________\n",
            "dense_2 (Dense)              (None, 4)                 1028      \n",
            "=================================================================\n",
            "Total params: 16,878,916\n",
            "Trainable params: 2,164,228\n",
            "Non-trainable params: 14,714,688\n",
            "_________________________________________________________________\n"
          ],
          "name": "stdout"
        }
      ]
    },
    {
      "cell_type": "code",
      "metadata": {
        "id": "UPjsYt316nEK",
        "colab_type": "code",
        "colab": {}
      },
      "source": [
        "\n",
        "model_vgg16.compile(optimizer=keras.optimizers.Adam(0.001), loss='categorical_crossentropy', metrics=['acc'])"
      ],
      "execution_count": 0,
      "outputs": []
    },
    {
      "cell_type": "code",
      "metadata": {
        "id": "4Aqd3xV09SLc",
        "colab_type": "code",
        "outputId": "3dcc6dc6-dfc3-4a15-e86e-4f0cb48bfd7c",
        "colab": {
          "base_uri": "https://localhost:8080/",
          "height": 357
        }
      },
      "source": [
        "history = model_vgg16.fit(train_gen, epochs=10,\n",
        "                          validation_data=test_gen)"
      ],
      "execution_count": 18,
      "outputs": [
        {
          "output_type": "stream",
          "text": [
            "Epoch 1/10\n",
            "96/96 [==============================] - 89s 922ms/step - loss: 0.3459 - acc: 0.8838 - val_loss: 0.0838 - val_acc: 0.9697\n",
            "Epoch 2/10\n",
            "96/96 [==============================] - 76s 790ms/step - loss: 0.1043 - acc: 0.9635 - val_loss: 0.0697 - val_acc: 0.9752\n",
            "Epoch 3/10\n",
            "96/96 [==============================] - 74s 770ms/step - loss: 0.0750 - acc: 0.9744 - val_loss: 0.0587 - val_acc: 0.9804\n",
            "Epoch 4/10\n",
            "96/96 [==============================] - 75s 776ms/step - loss: 0.0780 - acc: 0.9751 - val_loss: 0.0594 - val_acc: 0.9827\n",
            "Epoch 5/10\n",
            "96/96 [==============================] - 77s 802ms/step - loss: 0.0437 - acc: 0.9850 - val_loss: 0.0730 - val_acc: 0.9762\n",
            "Epoch 6/10\n",
            "96/96 [==============================] - 77s 799ms/step - loss: 0.0498 - acc: 0.9835 - val_loss: 0.0495 - val_acc: 0.9850\n",
            "Epoch 7/10\n",
            "96/96 [==============================] - 76s 787ms/step - loss: 0.0396 - acc: 0.9868 - val_loss: 0.0755 - val_acc: 0.9759\n",
            "Epoch 8/10\n",
            "96/96 [==============================] - 74s 768ms/step - loss: 0.0434 - acc: 0.9869 - val_loss: 0.1084 - val_acc: 0.9759\n",
            "Epoch 9/10\n",
            "96/96 [==============================] - 75s 777ms/step - loss: 0.0406 - acc: 0.9881 - val_loss: 0.0554 - val_acc: 0.9840\n",
            "Epoch 10/10\n",
            "96/96 [==============================] - 77s 800ms/step - loss: 0.0211 - acc: 0.9927 - val_loss: 0.0460 - val_acc: 0.9870\n"
          ],
          "name": "stdout"
        }
      ]
    },
    {
      "cell_type": "code",
      "metadata": {
        "id": "6WHS4SVinqVp",
        "colab_type": "code",
        "outputId": "15157622-938b-4c50-d811-626c8b476f2b",
        "colab": {
          "base_uri": "https://localhost:8080/",
          "height": 545
        }
      },
      "source": [
        "%matplotlib inline\n",
        "import matplotlib.pyplot as plt\n",
        "acc = history.history['acc']\n",
        "val_acc = history.history['val_acc']\n",
        "loss = history.history['loss']\n",
        "val_loss = history.history['val_loss']\n",
        "\n",
        "epochs = range(len(acc))\n",
        "\n",
        "plt.plot(epochs, acc, 'r', label='Training accuracy')\n",
        "plt.plot(epochs, val_acc, 'b', label='Validation accuracy')\n",
        "plt.title('Training and validation accuracy')\n",
        "plt.legend()\n",
        "plt.figure()\n",
        "\n",
        "plt.plot(epochs, loss, 'r', label='Training Loss')\n",
        "plt.plot(epochs, val_loss, 'b', label='Validation Loss')\n",
        "plt.title('Training and validation loss')\n",
        "plt.legend()\n",
        "\n",
        "plt.show()"
      ],
      "execution_count": 20,
      "outputs": [
        {
          "output_type": "display_data",
          "data": {
            "image/png": "[encoded data removed]",
            "text/plain": [
              "<Figure size 432x288 with 1 Axes>"
            ]
          },
          "metadata": {
            "tags": [],
            "needs_background": "light"
          }
        },
        {
          "output_type": "display_data",
          "data": {
            "image/png": "[encoded data removed]",
            "text/plain": [
              "<Figure size 432x288 with 1 Axes>"
            ]
          },
          "metadata": {
            "tags": [],
            "needs_background": "light"
          }
        }
      ]
    },
    {
      "cell_type": "code",
      "metadata": {
        "id": "lKyeUjmcoRQG",
        "colab_type": "code",
        "colab": {}
      },
      "source": [
        " import os\n",
        "os.mkdir(\"testing_outputs\")"
      ],
      "execution_count": 0,
      "outputs": []
    },
    {
      "cell_type": "code",
      "metadata": {
        "id": "KgUCvKVcpR0Q",
        "colab_type": "code",
        "outputId": "6e5da3c9-d62a-46b3-88af-a3b6826e459d",
        "colab": {
          "base_uri": "https://localhost:8080/",
          "height": 773
        }
      },
      "source": [
        "source = \"/content/testing_outputs/\"\n",
        "from skimage.transform import resize\n",
        "from skimage.transform import resize\n",
        "classification=['broad','grass','soil','soya']\n",
        "for filename in os.listdir(source):\n",
        "  os.chdir(source)\n",
        "  this_file = source+filename \n",
        "  this_file = this_file[25:]\n",
        "  new_image=plt.imread(this_file)\n",
        "  print(this_file)\n",
        "  \n",
        "\n",
        "  resized_image = resize(new_image, (150,150,3))\n",
        "  \n",
        "  predictions = model_vgg16.predict(np.array( [resized_image] ))\n",
        "  list_index = [0,1,2,3]\n",
        "  x = predictions\n",
        "  for i in range(4):\n",
        "    for j in range(4):\n",
        "      if x[0][list_index[i]] > x[0][list_index[j]]:\n",
        "        temp = list_index[i]\n",
        "        list_index[i] = list_index[j]\n",
        "        list_index[j] = temp\n",
        "  print(list_index)\n",
        "  print(classification[list_index[0]])\n",
        "  if(classification[list_index[0]]=='broad'):\n",
        "    print('weed')\n",
        "    \n",
        "    print('...........')\n",
        "    \n",
        "\n",
        "  else:\n",
        "    print(\"non weed\")\n",
        "    print('...........')  \n",
        "    \n",
        "    "
      ],
      "execution_count": 0,
      "outputs": [
        {
          "output_type": "stream",
          "text": [
            "101 (1).tif\n",
            "[3, 2, 0, 1]\n",
            "soya\n",
            "non weed\n",
            "...........\n",
            "4327.tif\n",
            "[3, 1, 0, 2]\n",
            "soya\n",
            "non weed\n",
            "...........\n",
            "102.tif\n",
            "[0, 3, 1, 2]\n",
            "broad\n",
            "weed\n",
            "...........\n",
            "1.tif\n",
            "[0, 3, 1, 2]\n",
            "broad\n",
            "weed\n",
            "...........\n",
            "1025.tif\n",
            "[0, 1, 3, 2]\n",
            "broad\n",
            "weed\n",
            "...........\n",
            "106.tif\n",
            "[0, 1, 3, 2]\n",
            "broad\n",
            "weed\n",
            "...........\n",
            "100.tif\n",
            "[1, 0, 3, 2]\n",
            "grass\n",
            "non weed\n",
            "...........\n",
            "1018.tif\n",
            "[2, 0, 3, 1]\n",
            "soil\n",
            "non weed\n",
            "...........\n",
            "3565.tif\n",
            "[3, 1, 0, 2]\n",
            "soya\n",
            "non weed\n",
            "...........\n"
          ],
          "name": "stdout"
        }
      ]
    }
  ]
}