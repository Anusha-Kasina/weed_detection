{
  "nbformat": 4,
  "nbformat_minor": 0,
  "metadata": {
    "colab": {
      "name": "weed2.ipynb",
      "provenance": [],
      "collapsed_sections": [],
      "include_colab_link": true
    },
    "kernelspec": {
      "name": "python3",
      "display_name": "Python 3"
    },
    "accelerator": "GPU"
  },
  "cells": [
    {
      "cell_type": "markdown",
      "metadata": {
        "id": "view-in-github",
        "colab_type": "text"
      },
      "source": [
        "<a href=\"https://colab.research.google.com/github/Anusha-Kasina/weed_detection/blob/master/weed2.ipynb\" target=\"_parent\"><img src=\"https://colab.research.google.com/assets/colab-badge.svg\" alt=\"Open In Colab\"/></a>"
      ]
    },
    {
      "cell_type": "code",
      "metadata": {
        "id": "iz14RI_Zt0MU",
        "colab_type": "code",
        "outputId": "7e94b446-a4ee-4f41-ad27-80233df8e6c2",
        "colab": {
          "base_uri": "https://localhost:8080/",
          "height": 68
        }
      },
      "source": [
        "import os\n",
        "#kaggle username from api token \n",
        "os.environ['KAGGLE_USERNAME'] = \"anushakasina\"\n",
        "#kaggle key from api token\n",
        "os.environ['KAGGLE_KEY'] =\"ddb898e4090e073a6d8ebd4a4a47701c\"\n",
        "#dataset path for downloading the data\n",
        "!kaggle datasets download -d fpeccia/weed-detection-in-soybean-crops"
      ],
      "execution_count": 1,
      "outputs": [
        {
          "output_type": "stream",
          "text": [
            "Downloading weed-detection-in-soybean-crops.zip to /content\n",
            "100% 2.36G/2.37G [00:40<00:00, 67.8MB/s]\n",
            "100% 2.37G/2.37G [00:40<00:00, 63.2MB/s]\n"
          ],
          "name": "stdout"
        }
      ]
    },
    {
      "cell_type": "code",
      "metadata": {
        "id": "mc4QXFOduKNn",
        "colab_type": "code",
        "outputId": "1adeecbd-e181-4173-b079-0feebadbca82",
        "colab": {
          "base_uri": "https://localhost:8080/",
          "height": 34
        }
      },
      "source": [
        "#upload data\n",
        " \n",
        "#ZipFile is a class of zipfile module for reading and writing zip files\n",
        "from zipfile import ZipFile\n",
        "#filename = zip file path \n",
        "file_name = \"/content/weed-detection-in-soybean-crops.zip\"\n",
        "#to extract the zip file\n",
        "with ZipFile(file_name,'r') as zip:\n",
        "  zip.extractall()\n",
        "  print('done')"
      ],
      "execution_count": 2,
      "outputs": [
        {
          "output_type": "stream",
          "text": [
            "done\n"
          ],
          "name": "stdout"
        }
      ]
    },
    {
      "cell_type": "code",
      "metadata": {
        "id": "qwI0DydpPKLk",
        "colab_type": "code",
        "colab": {}
      },
      "source": [
        "# !rm -rf test_data"
      ],
      "execution_count": 0,
      "outputs": []
    },
    {
      "cell_type": "code",
      "metadata": {
        "id": "lJEQIkSUPUGF",
        "colab_type": "code",
        "colab": {}
      },
      "source": [
        "# !rm -rf train_data"
      ],
      "execution_count": 0,
      "outputs": []
    },
    {
      "cell_type": "code",
      "metadata": {
        "id": "XdtZipPaEtTV",
        "colab_type": "code",
        "colab": {}
      },
      "source": [
        "os.mkdir(\"/content/train_data\")\n",
        "os.mkdir(\"/content/train_data/broadleaf\")\n",
        "os.mkdir(\"/content/train_data/grass\")\n",
        "os.mkdir(\"/content/train_data/soil\")\n",
        "os.mkdir(\"/content/train_data/soybean\")\n"
      ],
      "execution_count": 0,
      "outputs": []
    },
    {
      "cell_type": "code",
      "metadata": {
        "id": "ae-_UdCVFC7T",
        "colab_type": "code",
        "colab": {}
      },
      "source": [
        "os.mkdir(\"/content/test_data\")\n",
        "os.mkdir(\"/content/test_data/broadleaf\")\n",
        "os.mkdir(\"/content/test_data/grass\")\n",
        "os.mkdir(\"/content/test_data/soil\")\n",
        "os.mkdir(\"/content/test_data/soybean\")"
      ],
      "execution_count": 0,
      "outputs": []
    },
    {
      "cell_type": "code",
      "metadata": {
        "id": "09PgunU-KFHs",
        "colab_type": "code",
        "colab": {}
      },
      "source": [
        "from shutil import copyfile \n",
        "import random"
      ],
      "execution_count": 0,
      "outputs": []
    },
    {
      "cell_type": "markdown",
      "metadata": {
        "id": "UKur8SRSJy1-",
        "colab_type": "text"
      },
      "source": [
        ""
      ]
    },
    {
      "cell_type": "code",
      "metadata": {
        "id": "3Hlim5c3HdE-",
        "colab_type": "code",
        "outputId": "f30c9cf0-2a44-4852-a387-af35f4d0fd70",
        "colab": {
          "base_uri": "https://localhost:8080/",
          "height": 34
        }
      },
      "source": [
        "def split_data(source,training,testing,split_size):\n",
        "  files = []\n",
        "  for filename in os.listdir(source):\n",
        "    file = source+filename\n",
        "    files.append(filename)\n",
        "    training_length = int(len(files)*split_size)\n",
        "    shuffled_set = random.sample(files,len(files))\n",
        "    training_set = shuffled_set[0:training_length]\n",
        "    testing_set = shuffled_set[training_length:]\n",
        "  for filename in training_set:\n",
        "    this_file = source+filename \n",
        "    destination = training+filename \n",
        "    copyfile(this_file,destination)        \n",
        "  for filename in testing_set:\n",
        "    this_file = source+filename \n",
        "    destination = testing+filename \n",
        "    copyfile(this_file,destination)\n",
        "#split_size = 0.8\n",
        "split_data(\"/content/dataset/broadleaf/\",\"/content/train_data/broadleaf/\",\"/content/test_data/broadleaf/\",0.8)\n",
        "split_data(\"/content/dataset/grass/\",\"/content/train_data/grass/\",\"/content/test_data/grass/\",0.8)\n",
        "split_data(\"/content/dataset/soil/\",\"/content/train_data/soil/\",\"/content/test_data/soil/\",0.8)\n",
        "split_data(\"/content/dataset/soybean/\",\"/content/train_data/soybean/\",\"/content/test_data/soybean/\",0.8)\n",
        "print(\"done\")"
      ],
      "execution_count": 6,
      "outputs": [
        {
          "output_type": "stream",
          "text": [
            "done\n"
          ],
          "name": "stdout"
        }
      ]
    },
    {
      "cell_type": "code",
      "metadata": {
        "id": "msZmPp7MZJqi",
        "colab_type": "code",
        "outputId": "9f0c9f5b-cf2e-4097-974d-74f6ce8549bc",
        "colab": {
          "base_uri": "https://localhost:8080/",
          "height": 34
        }
      },
      "source": [
        "#path, dirs, files = next(os.walk(\"/content/train_data/grass\"))\n",
        "print(len(os.listdir('/content/train_data/soil')))"
      ],
      "execution_count": 7,
      "outputs": [
        {
          "output_type": "stream",
          "text": [
            "2599\n"
          ],
          "name": "stdout"
        }
      ]
    },
    {
      "cell_type": "code",
      "metadata": {
        "id": "wGrd3-2OTJDf",
        "colab_type": "code",
        "outputId": "4f0d4394-acca-4280-a8e7-90f9bb304c59",
        "colab": {
          "base_uri": "https://localhost:8080/",
          "height": 34
        }
      },
      "source": [
        "from keras.preprocessing.image import ImageDataGenerator, load_img, img_to_array"
      ],
      "execution_count": 8,
      "outputs": [
        {
          "output_type": "stream",
          "text": [
            "Using TensorFlow backend.\n"
          ],
          "name": "stderr"
        }
      ]
    },
    {
      "cell_type": "code",
      "metadata": {
        "id": "Z-6ONUCLRMMC",
        "colab_type": "code",
        "outputId": "030801d2-345b-46b0-e79d-7dc29dbd559b",
        "colab": {
          "base_uri": "https://localhost:8080/",
          "height": 51
        }
      },
      "source": [
        "train_dir = '/content/train_data'\n",
        "test_dir = '/content/test_data'\n",
        "\n",
        "train_gen_obj = ImageDataGenerator(rescale = 1.0/255.0)\n",
        "test_gen_obj = ImageDataGenerator(rescale = 1.0/255.0)\n",
        "\n",
        "train_gen = train_gen_obj.flow_from_directory(train_dir, batch_size = 128, target_size = (150, 150), class_mode = 'categorical')\n",
        "test_gen = test_gen_obj.flow_from_directory(test_dir, batch_size = 64, target_size = (150, 150), class_mode = 'categorical')"
      ],
      "execution_count": 9,
      "outputs": [
        {
          "output_type": "stream",
          "text": [
            "Found 12267 images belonging to 4 classes.\n",
            "Found 3069 images belonging to 4 classes.\n"
          ],
          "name": "stdout"
        }
      ]
    },
    {
      "cell_type": "code",
      "metadata": {
        "id": "TQPyGCO3WRlR",
        "colab_type": "code",
        "colab": {}
      },
      "source": [
        "import tensorflow as tf\n",
        "from tensorflow import keras"
      ],
      "execution_count": 0,
      "outputs": []
    },
    {
      "cell_type": "code",
      "metadata": {
        "id": "b5WxxZBgVdgY",
        "colab_type": "code",
        "colab": {}
      },
      "source": [
        "model = tf.keras.models.Sequential([\n",
        "    # Note the input shape is the desired size of the image 150x150 with 3 bytes color\n",
        "    tf.keras.layers.Conv2D(16, (3,3), activation='relu', input_shape=(150, 150, 3)),\n",
        "    tf.keras.layers.MaxPooling2D(2,2),\n",
        "    tf.keras.layers.Dropout(0.2),\n",
        "    tf.keras.layers.Conv2D(32, (3,3), activation='relu'),\n",
        "    tf.keras.layers.MaxPooling2D(2,2),\n",
        "    tf.keras.layers.Dropout(0.2), \n",
        "    tf.keras.layers.Conv2D(64, (3,3), activation='relu'), \n",
        "    tf.keras.layers.MaxPooling2D(2,2),\n",
        "    tf.keras.layers.Dropout(0.2),\n",
        "    # Flatten the results to feed into a DNN\n",
        "    tf.keras.layers.Flatten(), \n",
        "    # 128 neuron hidden layer\n",
        "    tf.keras.layers.Dense(128, activation='relu'), \n",
        "    tf.keras.layers.Dense(4, activation='softmax')  \n",
        "])"
      ],
      "execution_count": 0,
      "outputs": []
    },
    {
      "cell_type": "code",
      "metadata": {
        "id": "fSpQRlUxWZ0o",
        "colab_type": "code",
        "outputId": "67c9017d-1f13-4edf-f033-b881c9aeccdf",
        "colab": {
          "base_uri": "https://localhost:8080/",
          "height": 561
        }
      },
      "source": [
        "model.summary()"
      ],
      "execution_count": 17,
      "outputs": [
        {
          "output_type": "stream",
          "text": [
            "Model: \"sequential_2\"\n",
            "_________________________________________________________________\n",
            "Layer (type)                 Output Shape              Param #   \n",
            "=================================================================\n",
            "conv2d_6 (Conv2D)            (None, 148, 148, 16)      448       \n",
            "_________________________________________________________________\n",
            "max_pooling2d_6 (MaxPooling2 (None, 74, 74, 16)        0         \n",
            "_________________________________________________________________\n",
            "dropout_6 (Dropout)          (None, 74, 74, 16)        0         \n",
            "_________________________________________________________________\n",
            "conv2d_7 (Conv2D)            (None, 72, 72, 32)        4640      \n",
            "_________________________________________________________________\n",
            "max_pooling2d_7 (MaxPooling2 (None, 36, 36, 32)        0         \n",
            "_________________________________________________________________\n",
            "dropout_7 (Dropout)          (None, 36, 36, 32)        0         \n",
            "_________________________________________________________________\n",
            "conv2d_8 (Conv2D)            (None, 34, 34, 64)        18496     \n",
            "_________________________________________________________________\n",
            "max_pooling2d_8 (MaxPooling2 (None, 17, 17, 64)        0         \n",
            "_________________________________________________________________\n",
            "dropout_8 (Dropout)          (None, 17, 17, 64)        0         \n",
            "_________________________________________________________________\n",
            "flatten_2 (Flatten)          (None, 18496)             0         \n",
            "_________________________________________________________________\n",
            "dense_4 (Dense)              (None, 128)               2367616   \n",
            "_________________________________________________________________\n",
            "dense_5 (Dense)              (None, 4)                 516       \n",
            "=================================================================\n",
            "Total params: 2,391,716\n",
            "Trainable params: 2,391,716\n",
            "Non-trainable params: 0\n",
            "_________________________________________________________________\n"
          ],
          "name": "stdout"
        }
      ]
    },
    {
      "cell_type": "code",
      "metadata": {
        "id": "FGBaEn_4a-Fu",
        "colab_type": "code",
        "colab": {}
      },
      "source": [
        "# from tensorflow.keras.optimizers import RMSprop"
      ],
      "execution_count": 0,
      "outputs": []
    },
    {
      "cell_type": "code",
      "metadata": {
        "id": "UiwoYBHTZlqM",
        "colab_type": "code",
        "colab": {}
      },
      "source": [
        "# Compile Model. \n",
        "model.compile(loss='categorical_crossentropy', optimizer='adam', metrics=['acc'])"
      ],
      "execution_count": 0,
      "outputs": []
    },
    {
      "cell_type": "code",
      "metadata": {
        "id": "lHYYIrgrZtnk",
        "colab_type": "code",
        "outputId": "db37f903-defd-41ac-89ee-17026f96aacc",
        "colab": {
          "base_uri": "https://localhost:8080/",
          "height": 357
        }
      },
      "source": [
        "# Train the Model\n",
        "history = model.fit_generator(train_gen,\n",
        "                              validation_data = test_gen,\n",
        "                              epochs = 10, verbose = 1)"
      ],
      "execution_count": 19,
      "outputs": [
        {
          "output_type": "stream",
          "text": [
            "Epoch 1/10\n",
            "96/96 [==============================] - 61s 635ms/step - loss: 0.9756 - acc: 0.6204 - val_loss: 0.4862 - val_acc: 0.8166\n",
            "Epoch 2/10\n",
            "96/96 [==============================] - 61s 636ms/step - loss: 0.4197 - acc: 0.8369 - val_loss: 0.3885 - val_acc: 0.8543\n",
            "Epoch 3/10\n",
            "96/96 [==============================] - 61s 631ms/step - loss: 0.3507 - acc: 0.8662 - val_loss: 0.3447 - val_acc: 0.8700\n",
            "Epoch 4/10\n",
            "96/96 [==============================] - 60s 628ms/step - loss: 0.2904 - acc: 0.8947 - val_loss: 0.4034 - val_acc: 0.8364\n",
            "Epoch 5/10\n",
            "96/96 [==============================] - 60s 627ms/step - loss: 0.2575 - acc: 0.9045 - val_loss: 0.2857 - val_acc: 0.8935\n",
            "Epoch 6/10\n",
            "96/96 [==============================] - 61s 638ms/step - loss: 0.2160 - acc: 0.9229 - val_loss: 0.2348 - val_acc: 0.9127\n",
            "Epoch 7/10\n",
            "96/96 [==============================] - 61s 633ms/step - loss: 0.1996 - acc: 0.9271 - val_loss: 0.2916 - val_acc: 0.8879\n",
            "Epoch 8/10\n",
            "96/96 [==============================] - 61s 636ms/step - loss: 0.1835 - acc: 0.9349 - val_loss: 0.2760 - val_acc: 0.8944\n",
            "Epoch 9/10\n",
            "96/96 [==============================] - 61s 638ms/step - loss: 0.1761 - acc: 0.9358 - val_loss: 0.1893 - val_acc: 0.9322\n",
            "Epoch 10/10\n",
            "96/96 [==============================] - 61s 635ms/step - loss: 0.1325 - acc: 0.9510 - val_loss: 0.2369 - val_acc: 0.9097\n"
          ],
          "name": "stdout"
        }
      ]
    },
    {
      "cell_type": "markdown",
      "metadata": {
        "id": "YJAP-nEa9S_c",
        "colab_type": "text"
      },
      "source": [
        ""
      ]
    },
    {
      "cell_type": "code",
      "metadata": {
        "id": "qRUAzSUJqBb1",
        "colab_type": "code",
        "colab": {
          "base_uri": "https://localhost:8080/",
          "height": 545
        },
        "outputId": "3eb17abb-31cc-48b5-f947-edabc597f876"
      },
      "source": [
        "%matplotlib inline\n",
        "import matplotlib.pyplot as plt\n",
        "acc = history.history['acc']\n",
        "val_acc = history.history['val_acc']\n",
        "loss = history.history['loss']\n",
        "val_loss = history.history['val_loss']\n",
        "\n",
        "epochs = range(len(acc))\n",
        "\n",
        "plt.plot(epochs, acc, 'r', label='Training accuracy')\n",
        "plt.plot(epochs, val_acc, 'b', label='Validation accuracy')\n",
        "plt.title('Training and validation accuracy')\n",
        "plt.legend()\n",
        "plt.figure()\n",
        "\n",
        "plt.plot(epochs, loss, 'r', label='Training Loss')\n",
        "plt.plot(epochs, val_loss, 'b', label='Validation Loss')\n",
        "plt.title('Training and validation loss')\n",
        "plt.legend()\n",
        "\n",
        "plt.show()"
      ],
      "execution_count": 20,
      "outputs": [
        {
          "output_type": "display_data",
          "data": {
            "image/png": "[encoded data removed]",
            "text/plain": [
              "<Figure size 432x288 with 1 Axes>"
            ]
          },
          "metadata": {
            "tags": [],
            "needs_background": "light"
          }
        },
        {
          "output_type": "display_data",
          "data": {
            "image/png": "[encoded data removed]",
            "text/plain": [
              "<Figure size 432x288 with 1 Axes>"
            ]
          },
          "metadata": {
            "tags": [],
            "needs_background": "light"
          }
        }
      ]
    },
    {
      "cell_type": "code",
      "metadata": {
        "id": "cTdeyie8qn8q",
        "colab_type": "code",
        "colab": {}
      },
      "source": [
        ""
      ],
      "execution_count": 0,
      "outputs": []
    }
  ]
}