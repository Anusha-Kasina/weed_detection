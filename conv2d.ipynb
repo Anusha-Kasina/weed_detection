{
  "nbformat": 4,
  "nbformat_minor": 0,
  "metadata": {
    "colab": {
      "name": "conv2d",
      "provenance": [],
      "include_colab_link": true
    },
    "kernelspec": {
      "name": "python3",
      "display_name": "Python 3"
    },
    "accelerator": "GPU"
  },
  "cells": [
    {
      "cell_type": "markdown",
      "metadata": {
        "id": "view-in-github",
        "colab_type": "text"
      },
      "source": [
        "<a href=\"https://colab.research.google.com/github/Anusha-Kasina/weed_detection/blob/master/conv2d.ipynb\" target=\"_parent\"><img src=\"https://colab.research.google.com/assets/colab-badge.svg\" alt=\"Open In Colab\"/></a>"
      ]
    },
    {
      "cell_type": "code",
      "metadata": {
        "id": "DmOMqYKF-93B",
        "colab_type": "code",
        "outputId": "b1ea97aa-2d99-496a-dc41-5615a5654145",
        "colab": {
          "base_uri": "https://localhost:8080/",
          "height": 68
        }
      },
      "source": [
        "import os\n",
        "#kaggle username from api token \n",
        "os.environ['KAGGLE_USERNAME'] = \"anushakasina\"\n",
        "#kaggle key from api token\n",
        "os.environ['KAGGLE_KEY'] =\"ddb898e4090e073a6d8ebd4a4a47701c\"\n",
        "#dataset path for downloading the data\n",
        "!kaggle datasets download -d fpeccia/weed-detection-in-soybean-crops"
      ],
      "execution_count": 1,
      "outputs": [
        {
          "output_type": "stream",
          "text": [
            "Downloading weed-detection-in-soybean-crops.zip to /content\n",
            "100% 2.35G/2.37G [01:04<00:00, 20.1MB/s]\n",
            "100% 2.37G/2.37G [01:04<00:00, 39.3MB/s]\n"
          ],
          "name": "stdout"
        }
      ]
    },
    {
      "cell_type": "code",
      "metadata": {
        "id": "HssWMQJ4_ev5",
        "colab_type": "code",
        "outputId": "31428705-038c-4744-a34b-ed040ecc1dd7",
        "colab": {
          "base_uri": "https://localhost:8080/",
          "height": 34
        }
      },
      "source": [
        "from zipfile import ZipFile\n",
        "#filename = zip file path \n",
        "file_name = \"/content/weed-detection-in-soybean-crops.zip\"\n",
        "#to extract the zip file\n",
        "with ZipFile(file_name,'r') as zip:\n",
        "  zip.extractall()\n",
        "  print('done')"
      ],
      "execution_count": 2,
      "outputs": [
        {
          "output_type": "stream",
          "text": [
            "done\n"
          ],
          "name": "stdout"
        }
      ]
    },
    {
      "cell_type": "code",
      "metadata": {
        "id": "0g9-jx05_r_u",
        "colab_type": "code",
        "colab": {}
      },
      "source": [
        "os.mkdir(\"/content/train_data\")\n",
        "os.mkdir(\"/content/train_data/broadleaf\")\n",
        "os.mkdir(\"/content/train_data/grass\")\n",
        "os.mkdir(\"/content/train_data/soil\")\n",
        "os.mkdir(\"/content/train_data/soybean\")\n"
      ],
      "execution_count": 0,
      "outputs": []
    },
    {
      "cell_type": "code",
      "metadata": {
        "id": "VMryI-eV_vNJ",
        "colab_type": "code",
        "colab": {}
      },
      "source": [
        "os.mkdir(\"/content/test_data\")\n",
        "os.mkdir(\"/content/test_data/broadleaf\")\n",
        "os.mkdir(\"/content/test_data/grass\")\n",
        "os.mkdir(\"/content/test_data/soil\")\n",
        "os.mkdir(\"/content/test_data/soybean\")"
      ],
      "execution_count": 0,
      "outputs": []
    },
    {
      "cell_type": "code",
      "metadata": {
        "id": "-d5KTjVW_67w",
        "colab_type": "code",
        "colab": {}
      },
      "source": [
        "from shutil import copyfile \n",
        "import random"
      ],
      "execution_count": 0,
      "outputs": []
    },
    {
      "cell_type": "code",
      "metadata": {
        "id": "mrnPiHiL_-Jy",
        "colab_type": "code",
        "outputId": "e4caaa8a-f473-4a08-ded8-c9746c93f0fd",
        "colab": {
          "base_uri": "https://localhost:8080/",
          "height": 34
        }
      },
      "source": [
        "def split_data(source,training,testing,split_size):\n",
        "  files = []\n",
        "  for filename in os.listdir(source):\n",
        "    file = source+filename\n",
        "    files.append(filename)\n",
        "    #calculating the total number of images in the original dataset\n",
        "    training_length = int(len(files)*split_size)\n",
        "    shuffled_set = random.sample(files,len(files))\n",
        "    #80% of the images to training set\n",
        "    training_set = shuffled_set[0:training_length]\n",
        "    #20% of the images to testing set\n",
        "    testing_set = shuffled_set[training_length:]\n",
        "  #appending to training directory\n",
        "  for filename in training_set:\n",
        "    #source file name\n",
        "    this_file = source+filename \n",
        "    #destination file name\n",
        "    destination = training+filename \n",
        "    #coping from source to destination\n",
        "    copyfile(this_file,destination) \n",
        "  #appending to testing directory        \n",
        "  for filename in testing_set:\n",
        "    #source file name\n",
        "    this_file = source+filename \n",
        "    #destination file name\n",
        "    destination = testing+filename \n",
        "    #coping from source to destination\n",
        "    copyfile(this_file,destination)\n",
        "#split_size = 0.8\n",
        "split_data(\"/content/dataset/broadleaf/\",\"/content/train_data/broadleaf/\",\"/content/test_data/broadleaf/\",0.8)\n",
        "split_data(\"/content/dataset/grass/\",\"/content/train_data/grass/\",\"/content/test_data/grass/\",0.8)\n",
        "split_data(\"/content/dataset/soil/\",\"/content/train_data/soil/\",\"/content/test_data/soil/\",0.8)\n",
        "split_data(\"/content/dataset/soybean/\",\"/content/train_data/soybean/\",\"/content/test_data/soybean/\",0.8)\n",
        "print(\"done\")"
      ],
      "execution_count": 6,
      "outputs": [
        {
          "output_type": "stream",
          "text": [
            "done\n"
          ],
          "name": "stdout"
        }
      ]
    },
    {
      "cell_type": "code",
      "metadata": {
        "id": "2jCn9SrnAN2d",
        "colab_type": "code",
        "outputId": "2ae2f151-0023-4d70-e49d-b438c2d3ad60",
        "colab": {
          "base_uri": "https://localhost:8080/",
          "height": 85
        }
      },
      "source": [
        "print(\"train-data-broadleaf\",len(os.listdir('/content/train_data/broadleaf')),end=\",\")\n",
        "print(\"test-data-broadleaf\",len(os.listdir('/content/test_data/broadleaf')),end=\"\\n\")\n",
        "print(\"train-data-grass\",len(os.listdir('/content/train_data/grass')),end=\",\")\n",
        "print(\"test-data-grass\",len(os.listdir('/content/test_data/grass')),end=\"\\n\")\n",
        "print(\"train-data-soil\",len(os.listdir('/content/train_data/soil')),end=\",\")\n",
        "print(\"test-data-soil\",len(os.listdir('/content/test_data/soil')),end=\"\\n\")\n",
        "print(\"train-data-soybean\",len(os.listdir('/content/train_data/soybean')),end=\",\")\n",
        "print(\"test-data-soybean\",len(os.listdir('/content/test_data/soybean')),end=\"\\n\")"
      ],
      "execution_count": 7,
      "outputs": [
        {
          "output_type": "stream",
          "text": [
            "train-data-broadleaf 952,test-data-broadleaf 239\n",
            "train-data-grass 2816,test-data-grass 704\n",
            "train-data-soil 2599,test-data-soil 650\n",
            "train-data-soybean 5900,test-data-soybean 1476\n"
          ],
          "name": "stdout"
        }
      ]
    },
    {
      "cell_type": "code",
      "metadata": {
        "id": "d92swTJeASbc",
        "colab_type": "code",
        "outputId": "b943512e-29f0-4f54-fb8a-60e31a7f6214",
        "colab": {
          "base_uri": "https://localhost:8080/",
          "height": 34
        }
      },
      "source": [
        "from keras.preprocessing.image import ImageDataGenerator, load_img, img_to_array"
      ],
      "execution_count": 8,
      "outputs": [
        {
          "output_type": "stream",
          "text": [
            "Using TensorFlow backend.\n"
          ],
          "name": "stderr"
        }
      ]
    },
    {
      "cell_type": "code",
      "metadata": {
        "id": "DN7G0lkeAVyN",
        "colab_type": "code",
        "outputId": "f715e1a4-c505-48bf-e840-2e5c504d3b4b",
        "colab": {
          "base_uri": "https://localhost:8080/",
          "height": 51
        }
      },
      "source": [
        "#train and test directories path\n",
        "train_dir = '/content/train_data'\n",
        "test_dir = '/content/test_data'\n",
        "#normalising data by rescaling every image\n",
        "train_gen_obj = ImageDataGenerator(rescale = 1.0/255.0)\n",
        "test_gen_obj = ImageDataGenerator(rescale = 1.0/255.0)\n",
        "#flow_from_directory command generates batches of randomly transformed images and saves the results to your preview directory\n",
        "train_gen = train_gen_obj.flow_from_directory(train_dir, batch_size = 64, target_size = (150, 150), class_mode = 'categorical')\n",
        "test_gen = test_gen_obj.flow_from_directory(test_dir, batch_size = 32, target_size = (150, 150), class_mode = 'categorical')"
      ],
      "execution_count": 9,
      "outputs": [
        {
          "output_type": "stream",
          "text": [
            "Found 12267 images belonging to 4 classes.\n",
            "Found 3069 images belonging to 4 classes.\n"
          ],
          "name": "stdout"
        }
      ]
    },
    {
      "cell_type": "code",
      "metadata": {
        "id": "ShieFVCgAaym",
        "colab_type": "code",
        "colab": {}
      },
      "source": [
        "import tensorflow as tf\n",
        "from tensorflow import keras\n",
        "import os\n",
        "import numpy as np\n",
        "from keras.models import Sequential\n",
        "from keras.layers import Activation, Dropout, Flatten, Dense ,Conv2D, MaxPooling2D\n",
        "from keras.preprocessing.image import ImageDataGenerator\n",
        "from keras.layers import Convolution2D, MaxPooling2D, ZeroPadding2D\n",
        "from keras import optimizers\n"
      ],
      "execution_count": 0,
      "outputs": []
    },
    {
      "cell_type": "code",
      "metadata": {
        "id": "6diMgczZAd3m",
        "colab_type": "code",
        "outputId": "768129b9-e23c-41cf-b759-8fdff2017578",
        "colab": {
          "base_uri": "https://localhost:8080/",
          "height": 139
        }
      },
      "source": [
        "model = Sequential()\n",
        "model.add(Convolution2D(32, 3, 3, input_shape=(150, 150,3)))\n",
        "# activation is relu\n",
        "model.add(Activation('relu'))\n",
        "model.add(MaxPooling2D(pool_size=(2, 2)))\n",
        "# The second convolution\n",
        "model.add(Convolution2D(32, 3, 3))\n",
        "model.add(Activation('relu'))\n",
        "model.add(MaxPooling2D(pool_size=(2, 2)))\n",
        "# The third convolution\n",
        "model.add(Convolution2D(64, 3, 3))\n",
        "model.add(Activation('relu'))\n",
        "model.add(MaxPooling2D(pool_size=(2, 2)))\n",
        "# Flatten the results to feed into a DNN\n",
        "model.add(Flatten())\n",
        "# 64 neuron hidden layer\n",
        "model.add(Dense(64))\n",
        "model.add(Activation('relu'))\n",
        "# 4 output neurons. It will either the broadleaf or grassor soil or soybean\n",
        "model.add(Dense(4))\n",
        "model.add(Activation('softmax'))\n"
      ],
      "execution_count": 16,
      "outputs": [
        {
          "output_type": "stream",
          "text": [
            "/usr/local/lib/python3.6/dist-packages/ipykernel_launcher.py:2: UserWarning: Update your `Conv2D` call to the Keras 2 API: `Conv2D(32, (3, 3), input_shape=(150, 150,...)`\n",
            "  \n",
            "/usr/local/lib/python3.6/dist-packages/ipykernel_launcher.py:7: UserWarning: Update your `Conv2D` call to the Keras 2 API: `Conv2D(32, (3, 3))`\n",
            "  import sys\n",
            "/usr/local/lib/python3.6/dist-packages/ipykernel_launcher.py:11: UserWarning: Update your `Conv2D` call to the Keras 2 API: `Conv2D(64, (3, 3))`\n",
            "  # This is added back by InteractiveShellApp.init_path()\n"
          ],
          "name": "stderr"
        }
      ]
    },
    {
      "cell_type": "code",
      "metadata": {
        "id": "kG2kNzxlAhdH",
        "colab_type": "code",
        "outputId": "610be79d-f498-4355-aeea-86f8beef13bf",
        "colab": {
          "base_uri": "https://localhost:8080/",
          "height": 629
        }
      },
      "source": [
        "model.summary()"
      ],
      "execution_count": 17,
      "outputs": [
        {
          "output_type": "stream",
          "text": [
            "Model: \"sequential_2\"\n",
            "_________________________________________________________________\n",
            "Layer (type)                 Output Shape              Param #   \n",
            "=================================================================\n",
            "conv2d_4 (Conv2D)            (None, 148, 148, 32)      896       \n",
            "_________________________________________________________________\n",
            "activation_6 (Activation)    (None, 148, 148, 32)      0         \n",
            "_________________________________________________________________\n",
            "max_pooling2d_4 (MaxPooling2 (None, 74, 74, 32)        0         \n",
            "_________________________________________________________________\n",
            "conv2d_5 (Conv2D)            (None, 72, 72, 32)        9248      \n",
            "_________________________________________________________________\n",
            "activation_7 (Activation)    (None, 72, 72, 32)        0         \n",
            "_________________________________________________________________\n",
            "max_pooling2d_5 (MaxPooling2 (None, 36, 36, 32)        0         \n",
            "_________________________________________________________________\n",
            "conv2d_6 (Conv2D)            (None, 34, 34, 64)        18496     \n",
            "_________________________________________________________________\n",
            "activation_8 (Activation)    (None, 34, 34, 64)        0         \n",
            "_________________________________________________________________\n",
            "max_pooling2d_6 (MaxPooling2 (None, 17, 17, 64)        0         \n",
            "_________________________________________________________________\n",
            "flatten_2 (Flatten)          (None, 18496)             0         \n",
            "_________________________________________________________________\n",
            "dense_3 (Dense)              (None, 64)                1183808   \n",
            "_________________________________________________________________\n",
            "activation_9 (Activation)    (None, 64)                0         \n",
            "_________________________________________________________________\n",
            "dense_4 (Dense)              (None, 4)                 260       \n",
            "_________________________________________________________________\n",
            "activation_10 (Activation)   (None, 4)                 0         \n",
            "=================================================================\n",
            "Total params: 1,212,708\n",
            "Trainable params: 1,212,708\n",
            "Non-trainable params: 0\n",
            "_________________________________________________________________\n"
          ],
          "name": "stdout"
        }
      ]
    },
    {
      "cell_type": "code",
      "metadata": {
        "id": "KGS_pSiyAkoZ",
        "colab_type": "code",
        "colab": {}
      },
      "source": [
        "# Compile Model. \n",
        "model.compile(loss='categorical_crossentropy', optimizer='adam', metrics=['acc'])"
      ],
      "execution_count": 0,
      "outputs": []
    },
    {
      "cell_type": "code",
      "metadata": {
        "id": "LgW9VtJtAnjn",
        "colab_type": "code",
        "outputId": "e36c460f-9901-4402-9bde-02cfacff52b2",
        "colab": {
          "base_uri": "https://localhost:8080/",
          "height": 377
        }
      },
      "source": [
        "#Train the Model\n",
        "history = model.fit_generator(train_gen,\n",
        "                              validation_data = test_gen,\n",
        "                              epochs = 10, verbose = 1)"
      ],
      "execution_count": 19,
      "outputs": [
        {
          "output_type": "stream",
          "text": [
            "Epoch 1/10\n",
            "192/192 [==============================] - 52s 270ms/step - loss: 0.4835 - acc: 0.8109 - val_loss: 0.4094 - val_acc: 0.8716\n",
            "Epoch 2/10\n",
            "192/192 [==============================] - 49s 256ms/step - loss: 0.3036 - acc: 0.8874 - val_loss: 0.1089 - val_acc: 0.8879\n",
            "Epoch 3/10\n",
            "192/192 [==============================] - 49s 256ms/step - loss: 0.2162 - acc: 0.9204 - val_loss: 0.0990 - val_acc: 0.8928\n",
            "Epoch 4/10\n",
            "192/192 [==============================] - 49s 255ms/step - loss: 0.1633 - acc: 0.9417 - val_loss: 0.4988 - val_acc: 0.9211\n",
            "Epoch 5/10\n",
            "192/192 [==============================] - 49s 255ms/step - loss: 0.1258 - acc: 0.9567 - val_loss: 0.0665 - val_acc: 0.9045\n",
            "Epoch 6/10\n",
            "192/192 [==============================] - 49s 255ms/step - loss: 0.0975 - acc: 0.9658 - val_loss: 0.1957 - val_acc: 0.9413\n",
            "Epoch 7/10\n",
            "192/192 [==============================] - 49s 255ms/step - loss: 0.0549 - acc: 0.9814 - val_loss: 0.1780 - val_acc: 0.9254\n",
            "Epoch 8/10\n",
            "192/192 [==============================] - 49s 257ms/step - loss: 0.0659 - acc: 0.9779 - val_loss: 0.2100 - val_acc: 0.9404\n",
            "Epoch 9/10\n",
            "192/192 [==============================] - 50s 259ms/step - loss: 0.0473 - acc: 0.9834 - val_loss: 0.1589 - val_acc: 0.9215\n",
            "Epoch 10/10\n",
            "192/192 [==============================] - 50s 261ms/step - loss: 0.0308 - acc: 0.9899 - val_loss: 0.1484 - val_acc: 0.9319\n"
          ],
          "name": "stdout"
        }
      ]
    },
    {
      "cell_type": "code",
      "metadata": {
        "id": "T6eZJ5cGE4xh",
        "colab_type": "code",
        "outputId": "58363244-3f64-4411-8abc-96647017f611",
        "colab": {
          "base_uri": "https://localhost:8080/",
          "height": 545
        }
      },
      "source": [
        "# Plot the chart for accuracy and loss on both training and validation\n",
        "%matplotlib inline\n",
        "import matplotlib.pyplot as plt\n",
        "acc = history.history['acc']\n",
        "val_acc = history.history['val_acc']\n",
        "loss = history.history['loss']\n",
        "val_loss = history.history['val_loss']\n",
        "\n",
        "epochs = range(len(acc))\n",
        "plt.plot(epochs, acc, 'r', label='Training accuracy')\n",
        "plt.plot(epochs, val_acc, 'b', label='Validation accuracy')\n",
        "plt.title('Training and validation accuracy')\n",
        "plt.legend()\n",
        "plt.figure()\n",
        "\n",
        "plt.plot(epochs, loss, 'r', label='Training Loss')\n",
        "plt.plot(epochs, val_loss, 'b', label='Validation Loss')\n",
        "plt.title('Training and validation loss')\n",
        "plt.legend()\n",
        "\n",
        "plt.show()"
      ],
      "execution_count": 21,
      "outputs": [
        {
          "output_type": "display_data",
          "data": {
            "image/png": "[encoded data removed]",
            "text/plain": [
              "<Figure size 432x288 with 1 Axes>"
            ]
          },
          "metadata": {
            "tags": [],
            "needs_background": "light"
          }
        },
        {
          "output_type": "display_data",
          "data": {
            "image/png": "[encoded data removed]",
            "text/plain": [
              "<Figure size 432x288 with 1 Axes>"
            ]
          },
          "metadata": {
            "tags": [],
            "needs_background": "light"
          }
        }
      ]
    },
    {
      "cell_type": "code",
      "metadata": {
        "id": "6tLaTpR9E-pu",
        "colab_type": "code",
        "colab": {}
      },
      "source": [
        "import os\n",
        "#directory to store the images taken by drone\n",
        "os.mkdir(\"testing_outputs\")"
      ],
      "execution_count": 0,
      "outputs": []
    },
    {
      "cell_type": "code",
      "metadata": {
        "id": "AcKv6DevFNLn",
        "colab_type": "code",
        "outputId": "a2f4935c-1930-4dbe-dd1f-201df2ca4c71",
        "colab": {
          "base_uri": "https://localhost:8080/",
          "height": 521
        }
      },
      "source": [
        "source = \"/content/testing_outputs/\"\n",
        "from skimage.transform import resize\n",
        "from skimage.transform import resize\n",
        "classification=['broad','grass','soil','soya']\n",
        "for filename in os.listdir(source):\n",
        "  #changing path to current directory\n",
        "  os.chdir(source)\n",
        "  #extracting the path\n",
        "  this_file = source+filename \n",
        "  #extracting the image name\n",
        "  this_file = this_file[25:]\n",
        "  #storing image to new_image\n",
        "  new_image=plt.imread(this_file)\n",
        "  print(this_file)\n",
        "  \n",
        "  #to resize the image to match model input size\n",
        "  resized_image = resize(new_image, (150,150,3))\n",
        "  #to predict the input image using our model\n",
        "  predictions = model.predict(np.array( [resized_image] ))\n",
        "  #list_index defines 0 for broadleaf, 1 for grass,2 for soil,3 for soybean\n",
        "  list_index = [0,1,2,3]\n",
        "  #storing predicted output by the model to x\n",
        "  x = predictions\n",
        "  # arranging the list in such a way that highest probability list index comes to first position of the list\n",
        "  for i in range(4):\n",
        "    for j in range(4):\n",
        "      if x[0][list_index[i]] > x[0][list_index[j]]:\n",
        "        temp = list_index[i]\n",
        "        list_index[i] = list_index[j]\n",
        "        list_index[j] = temp\n",
        "  #Show the sorted labels in order from highest probability to lowest\n",
        "  print(list_index,end='\\t')\n",
        "  print(classification[list_index[0]],end='\\t')\n",
        "  if(classification[list_index[0]]=='broad'):\n",
        "    print('weed',end='\\n')\n",
        "    \n",
        "    print('...........')\n",
        "    \n",
        "\n",
        "  else:\n",
        "    print(\"non weed\",end='\\n')\n",
        "    print('...........')  \n",
        "    \n",
        "    "
      ],
      "execution_count": 0,
      "outputs": [
        {
          "output_type": "stream",
          "text": [
            "102.tif\n",
            "[0, 1, 3, 2]\tbroad\tweed\n",
            "...........\n",
            "1018.tif\n",
            "[2, 1, 3, 0]\tsoil\tnon weed\n",
            "...........\n",
            "1032.tif\n",
            "[3, 1, 0, 2]\tsoya\tnon weed\n",
            "...........\n",
            "101.tif\n",
            "[3, 1, 0, 2]\tsoya\tnon weed\n",
            "...........\n",
            "106.tif\n",
            "[0, 1, 3, 2]\tbroad\tweed\n",
            "...........\n",
            "1.tif\n",
            "[0, 1, 3, 2]\tbroad\tweed\n",
            "...........\n",
            "3565.tif\n",
            "[3, 1, 0, 2]\tsoya\tnon weed\n",
            "...........\n",
            "100.tif\n",
            "[0, 1, 3, 2]\tbroad\tweed\n",
            "...........\n",
            "4327.tif\n",
            "[3, 1, 0, 2]\tsoya\tnon weed\n",
            "...........\n",
            "1025.tif\n",
            "[0, 1, 3, 2]\tbroad\tweed\n",
            "...........\n"
          ],
          "name": "stdout"
        }
      ]
    }
  ]
}