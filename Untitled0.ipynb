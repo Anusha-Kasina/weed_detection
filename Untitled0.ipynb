{
  "nbformat": 4,
  "nbformat_minor": 0,
  "metadata": {
    "colab": {
      "name": "Untitled0.ipynb",
      "provenance": [],
      "collapsed_sections": [],
      "authorship_tag": "ABX9TyOGPS2XpKM3cnSAWRqhn4Lw",
      "include_colab_link": true
    },
    "kernelspec": {
      "name": "python3",
      "display_name": "Python 3"
    },
    "accelerator": "GPU"
  },
  "cells": [
    {
      "cell_type": "markdown",
      "metadata": {
        "id": "view-in-github",
        "colab_type": "text"
      },
      "source": [
        "<a href=\"https://colab.research.google.com/github/Anusha-Kasina/weed_detection/blob/master/Untitled0.ipynb\" target=\"_parent\"><img src=\"https://colab.research.google.com/assets/colab-badge.svg\" alt=\"Open In Colab\"/></a>"
      ]
    },
    {
      "cell_type": "code",
      "metadata": {
        "id": "iz14RI_Zt0MU",
        "colab_type": "code",
        "colab": {
          "base_uri": "https://localhost:8080/",
          "height": 68
        },
        "outputId": "b0c8acd7-e3cb-402f-ff85-68ff3afd2759"
      },
      "source": [
        "import os\n",
        "os.environ['KAGGLE_USERNAME'] = \"anushakasina\"\n",
        "os.environ['KAGGLE_KEY'] = \"ddb898e4090e073a6d8ebd4a4a47701c\"\n",
        "!kaggle datasets download -d fpeccia/weed-detection-in-soybean-crops\n"
      ],
      "execution_count": 1,
      "outputs": [
        {
          "output_type": "stream",
          "text": [
            "Downloading weed-detection-in-soybean-crops.zip to /content\n",
            "100% 2.36G/2.37G [00:37<00:00, 52.5MB/s]\n",
            "100% 2.37G/2.37G [00:37<00:00, 67.2MB/s]\n"
          ],
          "name": "stdout"
        }
      ]
    },
    {
      "cell_type": "code",
      "metadata": {
        "id": "mc4QXFOduKNn",
        "colab_type": "code",
        "colab": {
          "base_uri": "https://localhost:8080/",
          "height": 34
        },
        "outputId": "5dc8e463-8d54-4a86-d4c1-854ea57c3d8c"
      },
      "source": [
        "#upload data\n",
        "from zipfile import ZipFile\n",
        "\n",
        "file_name = \"/content/weed-detection-in-soybean-crops.zip\"\n",
        "\n",
        "with ZipFile(file_name,'r') as zip:\n",
        "  zip.extractall()\n",
        "  print('done')"
      ],
      "execution_count": 2,
      "outputs": [
        {
          "output_type": "stream",
          "text": [
            "done\n"
          ],
          "name": "stdout"
        }
      ]
    },
    {
      "cell_type": "code",
      "metadata": {
        "id": "pHq39dltuS88",
        "colab_type": "code",
        "colab": {}
      },
      "source": [
        ""
      ],
      "execution_count": 0,
      "outputs": []
    }
  ]
}